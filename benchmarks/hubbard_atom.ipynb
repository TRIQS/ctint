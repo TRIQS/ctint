{
 "cells": [
  {
   "cell_type": "markdown",
   "metadata": {
    "deletable": true,
    "editable": true,
    "run_control": {
     "frozen": false,
     "read_only": false
    }
   },
   "source": [
    "# Header"
   ]
  },
  {
   "cell_type": "code",
   "execution_count": 11,
   "metadata": {
    "collapsed": false,
    "deletable": true,
    "editable": true,
    "run_control": {
     "frozen": false,
     "read_only": false
    }
   },
   "outputs": [],
   "source": [
    "# Triqs imports\n",
    "from triqs.plot.mpl_interface import *\n",
    "from h5 import *\n",
    "from triqs.gf import *\n",
    "from triqs.operators import *\n",
    "\n",
    "# Tools\n",
    "from math import *\n",
    "from itertools import *\n",
    "import numpy as np\n",
    "\n",
    "# Ctint\n",
    "from ctint import SolverCore\n",
    "\n",
    "# Redirect the output of the C++ solver to the notebook\n",
    "#from triqs.utility.redirect import *\n",
    "#start_redirect()\n",
    "\n",
    "%matplotlib inline"
   ]
  },
  {
   "cell_type": "markdown",
   "metadata": {
    "deletable": true,
    "editable": true,
    "run_control": {
     "frozen": false,
     "read_only": false
    }
   },
   "source": [
    "# Benchmark Hubbard Atom"
   ]
  },
  {
   "cell_type": "code",
   "execution_count": 17,
   "metadata": {
    "collapsed": false,
    "deletable": true,
    "editable": true,
    "run_control": {
     "frozen": false,
     "read_only": false
    }
   },
   "outputs": [
    {
     "name": "stdout",
     "output_type": "stream",
     "text": [
      "1.0\n"
     ]
    }
   ],
   "source": [
    "# Parameters\n",
    "U = 2.0\n",
    "beta = 1.0\n",
    "mu = U/2.0\n",
    "n_iw = 20\n",
    "\n",
    "# The Hamiltonian of the Hubbard Atom\n",
    "h_int = U * n('up',0)*n('down',0)\n",
    "\n",
    "# The alpha shift : alpha[block][index,s]\n",
    "delta = 0.3\n",
    "diag = 0.5 + delta\n",
    "odiag = 0.5 - delta\n",
    "alpha = [ [[diag,odiag]], [[odiag,diag]] ]\n",
    "\n",
    "# The Green function structure\n",
    "gf_struct = { 'up':[0], 'down':[0] }\n",
    "\n",
    "# Construct the CTINT\n",
    "from ctint import SolverCore\n",
    "S = SolverCore(beta = beta,\n",
    "               gf_struct = gf_struct,\n",
    "               n_iw = n_iw,\n",
    "               n_tau = 100001 )\n",
    "\n",
    "# Initialize the non-interacting Green's function\n",
    "for name ,g0 in S.G0_iw:\n",
    "    g0 << inverse(iOmega_n + mu);\n",
    "    \n",
    "# Run the QMC\n",
    "S.solve(h_int=h_int,\n",
    "        alpha = alpha,\n",
    "        n_cycles = 10000000,\n",
    "        length_cycle = 50,\n",
    "        n_warmup_cycles = 10000,\n",
    "        measure_M_tau = True,\n",
    "        post_process = True )\n",
    "\n",
    "# Print average sign\n",
    "print(S.average_sign)"
   ]
  },
  {
   "cell_type": "code",
   "execution_count": 18,
   "metadata": {
    "collapsed": false,
    "deletable": true,
    "editable": true,
    "run_control": {
     "frozen": false,
     "read_only": false
    }
   },
   "outputs": [
    {
     "data": {
      "text/plain": [
       "(-30, 30)"
      ]
     },
     "execution_count": 18,
     "metadata": {},
     "output_type": "execute_result"
    },
    {
     "data": {
      "image/png": "[encoded data removed]",
      "text/plain": [
       "<matplotlib.figure.Figure at 0x7f50c66d2990>"
      ]
     },
     "metadata": {},
     "output_type": "display_data"
    }
   ],
   "source": [
    "# Plot the difference to the exact result\n",
    "Sigma_exact = GfImFreq( indices=[0], beta = beta, name = 'exact', n_points = n_iw)\n",
    "Sigma_exact << U/2.0 + U * U / 4.0 * inverse(iOmega_n)\n",
    "\n",
    "oplot(S.Sigma_iw['up'] - Sigma_exact, '-o')\n",
    "plt.xlim(-30,30)"
   ]
  }
 ],
 "metadata": {
  "kernelspec": {
   "display_name": "Python 3",
   "language": "python",
   "name": "python3"
  },
  "language_info": {
   "codemirror_mode": {
    "name": "ipython",
    "version": 3
   },
   "file_extension": ".py",
   "mimetype": "text/x-python",
   "name": "python",
   "nbconvert_exporter": "python",
   "pygments_lexer": "ipython3"
  },
  "latex_envs": {
   "LaTeX_envs_menu_present": true,
   "autocomplete": true,
   "bibliofile": "biblio.bib",
   "cite_by": "apalike",
   "current_citInitial": 1,
   "eqLabelWithNumbers": true,
   "eqNumInitial": 0,
   "hotkeys": {
    "equation": "Ctrl-E",
    "itemize": "Ctrl-I"
   },
   "labels_anchors": false,
   "latex_user_defs": false,
   "report_style_numbering": false,
   "user_envs_cfg": false
  }
 },
 "nbformat": 4,
 "nbformat_minor": 1
}
